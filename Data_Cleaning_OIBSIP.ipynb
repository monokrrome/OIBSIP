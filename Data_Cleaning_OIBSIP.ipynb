{
  "nbformat": 4,
  "nbformat_minor": 0,
  "metadata": {
    "colab": {
      "provenance": [],
      "authorship_tag": "ABX9TyMtqIC8/+dV7AkZWVuY1HRP",
      "include_colab_link": true
    },
    "kernelspec": {
      "name": "python3",
      "display_name": "Python 3"
    },
    "language_info": {
      "name": "python"
    }
  },
  "cells": [
    {
      "cell_type": "markdown",
      "metadata": {
        "id": "view-in-github",
        "colab_type": "text"
      },
      "source": [
        "<a href=\"https://colab.research.google.com/github/monokrrome/OIBSIP/blob/main/Data_Cleaning_OIBSIP.ipynb\" target=\"_parent\"><img src=\"https://colab.research.google.com/assets/colab-badge.svg\" alt=\"Open In Colab\"/></a>"
      ]
    },
    {
      "cell_type": "markdown",
      "source": [
        "[DATASET](https://www.kaggle.com/datasets/datasnaek/youtube)"
      ],
      "metadata": {
        "id": "Pgwpqn8If3Sl"
      }
    },
    {
      "cell_type": "markdown",
      "source": [
        "### **Loading Dataset and Displaying Basic Information**"
      ],
      "metadata": {
        "id": "vLR-MoqloB5k"
      }
    },
    {
      "cell_type": "code",
      "execution_count": null,
      "metadata": {
        "colab": {
          "base_uri": "https://localhost:8080/"
        },
        "id": "iiE0ZnO-c63y",
        "outputId": "f9dfd13a-dbdc-4d39-c690-79427b9131d4"
      },
      "outputs": [
        {
          "output_type": "stream",
          "name": "stdout",
          "text": [
            "Error reading CSV: Error tokenizing data. C error: Expected 11 fields in line 2401, saw 21\n",
            "\n",
            "CSV loaded with errors skipped.\n",
            "<class 'pandas.core.frame.DataFrame'>\n",
            "RangeIndex: 7992 entries, 0 to 7991\n",
            "Data columns (total 11 columns):\n",
            " #   Column          Non-Null Count  Dtype  \n",
            "---  ------          --------------  -----  \n",
            " 0   video_id        7992 non-null   object \n",
            " 1   title           7992 non-null   object \n",
            " 2   channel_title   7992 non-null   object \n",
            " 3   category_id     7992 non-null   int64  \n",
            " 4   tags            7992 non-null   object \n",
            " 5   views           7992 non-null   int64  \n",
            " 6   likes           7992 non-null   int64  \n",
            " 7   dislikes        7992 non-null   int64  \n",
            " 8   comment_total   7992 non-null   int64  \n",
            " 9   thumbnail_link  7992 non-null   object \n",
            " 10  date            7992 non-null   float64\n",
            "dtypes: float64(1), int64(5), object(5)\n",
            "memory usage: 686.9+ KB\n",
            "None\n",
            "video_id           object\n",
            "title              object\n",
            "channel_title      object\n",
            "category_id         int64\n",
            "tags               object\n",
            "views               int64\n",
            "likes               int64\n",
            "dislikes            int64\n",
            "comment_total       int64\n",
            "thumbnail_link     object\n",
            "date              float64\n",
            "dtype: object\n",
            "      video_id                                              title  \\\n",
            "0  XpVt6Z1Gjjo  1 YEAR OF VLOGGING -- HOW LOGAN PAUL CHANGED Y...   \n",
            "1  K4wEI5zhHB0            iPhone X — Introducing iPhone X — Apple   \n",
            "2  cLdxuaxaQwc                                        My Response   \n",
            "3  WYYvHb03Eog                          Apple iPhone X first look   \n",
            "4  sjlHnJvXdQs                                  iPhone X (parody)   \n",
            "\n",
            "      channel_title  category_id  \\\n",
            "0  Logan Paul Vlogs           24   \n",
            "1             Apple           28   \n",
            "2         PewDiePie           22   \n",
            "3         The Verge           28   \n",
            "4        jacksfilms           23   \n",
            "\n",
            "                                                tags    views   likes  \\\n",
            "0  logan paul vlog|logan paul|logan|paul|olympics...  4394029  320053   \n",
            "1  Apple|iPhone 10|iPhone Ten|iPhone|Portrait Lig...  7860119  185853   \n",
            "2                                             [none]  5845909  576597   \n",
            "3  apple iphone x hands on|Apple iPhone X|iPhone ...  2642103   24975   \n",
            "4  jacksfilms|parody|parodies|iphone|iphone x|iph...  1168130   96666   \n",
            "\n",
            "   dislikes  comment_total                                  thumbnail_link  \\\n",
            "0      5931          46245  https://i.ytimg.com/vi/XpVt6Z1Gjjo/default.jpg   \n",
            "1     26679              0  https://i.ytimg.com/vi/K4wEI5zhHB0/default.jpg   \n",
            "2     39774         170708  https://i.ytimg.com/vi/cLdxuaxaQwc/default.jpg   \n",
            "3      4542          12829  https://i.ytimg.com/vi/WYYvHb03Eog/default.jpg   \n",
            "4       568           6666  https://i.ytimg.com/vi/sjlHnJvXdQs/default.jpg   \n",
            "\n",
            "    date  \n",
            "0  13.09  \n",
            "1  13.09  \n",
            "2  13.09  \n",
            "3  13.09  \n",
            "4  13.09  \n",
            "       category_id         views         likes       dislikes  comment_total  \\\n",
            "count  7992.000000  7.992000e+03  7.992000e+03    7992.000000    7992.000000   \n",
            "mean     20.217718  9.390269e+05  3.449193e+04    1781.625000    4608.489740   \n",
            "std       7.415525  2.148263e+06  9.136160e+04   10822.103125   20252.758016   \n",
            "min       1.000000  0.000000e+00  0.000000e+00       0.000000       0.000000   \n",
            "25%      17.000000  9.686375e+04  1.907500e+03      67.000000     286.000000   \n",
            "50%      23.000000  3.086115e+05  8.652500e+03     272.500000    1085.500000   \n",
            "75%      25.000000  9.588758e+05  3.021350e+04    1013.000000    3462.750000   \n",
            "max      43.000000  4.150067e+07  2.010366e+06  318404.000000  736179.000000   \n",
            "\n",
            "              date  \n",
            "count  7992.000000  \n",
            "mean     16.094249  \n",
            "std       7.677674  \n",
            "min       1.100000  \n",
            "25%      11.100000  \n",
            "50%      16.595000  \n",
            "75%      21.100000  \n",
            "max      30.090000  \n"
          ]
        }
      ],
      "source": [
        "import pandas as pd\n",
        "\n",
        "# Load the dataset, handling potential errors\n",
        "try:\n",
        "    df = pd.read_csv('USvideos.csv')\n",
        "except pd.errors.ParserError as e:\n",
        "    print(f\"Error reading CSV: {e}\")\n",
        "    # Try reading the file with a different error handling strategy\n",
        "    df = pd.read_csv('USvideos.csv', on_bad_lines='skip')  # Skip lines with errors\n",
        "    print(\"CSV loaded with errors skipped.\")\n",
        "\n",
        "# Display basic information about the dataset\n",
        "print(df.info())\n",
        "\n",
        "# Check for any inconsistencies or anomalies in data types\n",
        "print(df.dtypes)\n",
        "\n",
        "print(df.head() )\n",
        "\n",
        "print(df.describe())"
      ]
    },
    {
      "cell_type": "markdown",
      "source": [
        "### **Missing Data Handling**"
      ],
      "metadata": {
        "id": "YrqK_QJlotEJ"
      }
    },
    {
      "cell_type": "code",
      "source": [
        "# Check for missing values\n",
        "missing_values = df.isnull().sum()\n",
        "print(missing_values)\n",
        "\n",
        "# Handling missing values\n",
        "# For simplicity, we can drop rows with missing values (if any)\n",
        "df = df.dropna()"
      ],
      "metadata": {
        "colab": {
          "base_uri": "https://localhost:8080/"
        },
        "id": "lByE_tAwk1Vi",
        "outputId": "eecdb426-a216-4c59-a56f-e2c2df8bc398"
      },
      "execution_count": null,
      "outputs": [
        {
          "output_type": "stream",
          "name": "stdout",
          "text": [
            "video_id          0\n",
            "title             0\n",
            "channel_title     0\n",
            "category_id       0\n",
            "tags              0\n",
            "views             0\n",
            "likes             0\n",
            "dislikes          0\n",
            "comment_total     0\n",
            "thumbnail_link    0\n",
            "date              0\n",
            "dtype: int64\n"
          ]
        }
      ]
    },
    {
      "cell_type": "markdown",
      "source": [
        "### **Duplicate Removal**"
      ],
      "metadata": {
        "id": "wgujFVYxowdT"
      }
    },
    {
      "cell_type": "code",
      "source": [
        "# Check for duplicate rows\n",
        "duplicates = df.duplicated().sum()\n",
        "print(f'Duplicates: {duplicates}')\n",
        "\n",
        "# Remove duplicate rows\n",
        "df = df.drop_duplicates()"
      ],
      "metadata": {
        "colab": {
          "base_uri": "https://localhost:8080/"
        },
        "id": "-o0K27Oolh5B",
        "outputId": "390345b6-f866-4434-919a-fd1bcd6d2ab0"
      },
      "execution_count": null,
      "outputs": [
        {
          "output_type": "stream",
          "name": "stdout",
          "text": [
            "Duplicates: 0\n"
          ]
        }
      ]
    },
    {
      "cell_type": "markdown",
      "source": [
        "### **Standardization**"
      ],
      "metadata": {
        "id": "CsNqlQ5no3A5"
      }
    },
    {
      "cell_type": "code",
      "source": [
        "# Convert date to a standard date format\n",
        "df['date'] = pd.to_datetime(df['date'])\n",
        "\n",
        "# Ensure column names are in a consistent format (e.g., all lowercase)\n",
        "df.columns = [col.lower() for col in df.columns]\n",
        "\n",
        "# Check for any inconsistent categorical data in 'category_id'\n",
        "print(df['category_id'].unique())\n",
        "\n",
        "# Convert 'category_id' to a categorical data type\n",
        "df['category_id'] = df['category_id'].astype('category')"
      ],
      "metadata": {
        "colab": {
          "base_uri": "https://localhost:8080/"
        },
        "id": "f8d4TqRlmuJm",
        "outputId": "12f586ca-5445-44ce-eca1-ff5e5e6467ba"
      },
      "execution_count": null,
      "outputs": [
        {
          "output_type": "stream",
          "name": "stdout",
          "text": [
            "[24 28 22 23  1 26 10 25 17 27  2 20 15 29 19 43]\n"
          ]
        }
      ]
    },
    {
      "cell_type": "markdown",
      "source": [
        "### **Outlier Detection**"
      ],
      "metadata": {
        "id": "qL5AwybLo7V5"
      }
    },
    {
      "cell_type": "code",
      "source": [
        "import matplotlib.pyplot as plt\n",
        "import seaborn as sns\n",
        "\n",
        "# Plot to identify outliers in numerical columns\n",
        "plt.figure(figsize=(10, 6))\n",
        "sns.boxplot(data=df[['views', 'likes', 'dislikes', 'comment_total']])\n",
        "plt.show()\n",
        "\n",
        "# Addressing outliers: For simplicity, we can use the IQR method to remove them\n",
        "Q1 = df[['views', 'likes', 'dislikes', 'comment_total']].quantile(0.25)\n",
        "Q3 = df[['views', 'likes', 'dislikes', 'comment_total']].quantile(0.75)\n",
        "IQR = Q3 - Q1\n",
        "\n",
        "# Filter out outliers\n",
        "df = df[~((df[['views', 'likes', 'dislikes', 'comment_total']] < (Q1 - 1.5 * IQR)) |\n",
        "          (df[['views', 'likes', 'dislikes', 'comment_total']] > (Q3 + 1.5 * IQR))).any(axis=1)]"
      ],
      "metadata": {
        "colab": {
          "base_uri": "https://localhost:8080/",
          "height": 558
        },
        "id": "suaq7DRcng5L",
        "outputId": "cbc96121-8ef7-4906-f60c-4ec5c39c0fdf"
      },
      "execution_count": null,
      "outputs": [
        {
          "output_type": "display_data",
          "data": {
            "text/plain": [
              "<Figure size 1000x600 with 1 Axes>"
            ],
            "image/png": "[encoded data removed]"
          },
          "metadata": {}
        }
      ]
    }
  ]
}